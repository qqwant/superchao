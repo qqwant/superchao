{
 "cells": [
  {
   "cell_type": "code",
   "execution_count": 5,
   "metadata": {
    "ExecuteTime": {
     "end_time": "2019-03-14T01:50:16.646881Z",
     "start_time": "2019-03-14T01:50:14.524014Z"
    }
   },
   "outputs": [],
   "source": [
    "import pandas as pd\n",
    "import numpy as np \n",
    "\n",
    "import seaborn as sns\n",
    "import matplotlib.pyplot as plt\n",
    "%matplotlib inline\n",
    "\n",
    "from sklearn import metrics\n",
    "from sklearn.ensemble import GradientBoostingClassifier\n",
    "from sklearn.model_selection import cross_validate, GridSearchCV\n",
    "from sklearn.model_selection import train_test_split"
   ]
  },
  {
   "cell_type": "code",
   "execution_count": 93,
   "metadata": {
    "ExecuteTime": {
     "end_time": "2019-03-14T05:56:07.130971Z",
     "start_time": "2019-03-14T05:56:07.017935Z"
    }
   },
   "outputs": [],
   "source": [
    "train = pd.read_csv('ads_train.csv')\n",
    "test = pd.read_csv( 'ads_test.csv')"
   ]
  },
  {
   "cell_type": "code",
   "execution_count": 113,
   "metadata": {
    "ExecuteTime": {
     "end_time": "2019-03-14T07:28:22.927713Z",
     "start_time": "2019-03-14T07:28:22.881004Z"
    }
   },
   "outputs": [
    {
     "data": {
      "text/plain": [
       "Index(['Unnamed: 0', 'isbuyer', 'buy_freq', 'visit_freq', 'buy_interval',\n",
       "       'sv_interval', 'expected_time_buy', 'expected_time_visit', 'last_buy',\n",
       "       'last_visit', 'multiple_buy', 'multiple_visit', 'uniq_urls',\n",
       "       'num_checkins', 'y_buy'],\n",
       "      dtype='object')"
      ]
     },
     "execution_count": 113,
     "metadata": {},
     "output_type": "execute_result"
    },
    {
     "data": {
      "text/html": [
       "<div>\n",
       "<style scoped>\n",
       "    .dataframe tbody tr th:only-of-type {\n",
       "        vertical-align: middle;\n",
       "    }\n",
       "\n",
       "    .dataframe tbody tr th {\n",
       "        vertical-align: top;\n",
       "    }\n",
       "\n",
       "    .dataframe thead th {\n",
       "        text-align: right;\n",
       "    }\n",
       "</style>\n",
       "<table border=\"1\" class=\"dataframe\">\n",
       "  <thead>\n",
       "    <tr style=\"text-align: right;\">\n",
       "      <th></th>\n",
       "      <th>Unnamed: 0</th>\n",
       "      <th>isbuyer</th>\n",
       "      <th>buy_freq</th>\n",
       "      <th>visit_freq</th>\n",
       "      <th>buy_interval</th>\n",
       "      <th>sv_interval</th>\n",
       "      <th>expected_time_buy</th>\n",
       "      <th>expected_time_visit</th>\n",
       "      <th>last_buy</th>\n",
       "      <th>last_visit</th>\n",
       "      <th>multiple_buy</th>\n",
       "      <th>multiple_visit</th>\n",
       "      <th>uniq_urls</th>\n",
       "      <th>num_checkins</th>\n",
       "      <th>y_buy</th>\n",
       "    </tr>\n",
       "  </thead>\n",
       "  <tbody>\n",
       "    <tr>\n",
       "      <th>0</th>\n",
       "      <td>1</td>\n",
       "      <td>0</td>\n",
       "      <td>1.0</td>\n",
       "      <td>1.0</td>\n",
       "      <td>0.0</td>\n",
       "      <td>0.00000</td>\n",
       "      <td>0.0</td>\n",
       "      <td>0.00000</td>\n",
       "      <td>106.0</td>\n",
       "      <td>106.0</td>\n",
       "      <td>0</td>\n",
       "      <td>0</td>\n",
       "      <td>169.0</td>\n",
       "      <td>2130.0</td>\n",
       "      <td>0</td>\n",
       "    </tr>\n",
       "    <tr>\n",
       "      <th>1</th>\n",
       "      <td>2</td>\n",
       "      <td>0</td>\n",
       "      <td>1.0</td>\n",
       "      <td>1.0</td>\n",
       "      <td>0.0</td>\n",
       "      <td>0.00000</td>\n",
       "      <td>0.0</td>\n",
       "      <td>0.00000</td>\n",
       "      <td>6.0</td>\n",
       "      <td>6.0</td>\n",
       "      <td>0</td>\n",
       "      <td>0</td>\n",
       "      <td>150.0</td>\n",
       "      <td>539.0</td>\n",
       "      <td>0</td>\n",
       "    </tr>\n",
       "    <tr>\n",
       "      <th>2</th>\n",
       "      <td>3</td>\n",
       "      <td>0</td>\n",
       "      <td>1.0</td>\n",
       "      <td>2.0</td>\n",
       "      <td>0.0</td>\n",
       "      <td>0.50000</td>\n",
       "      <td>0.0</td>\n",
       "      <td>-101.14930</td>\n",
       "      <td>101.0</td>\n",
       "      <td>101.0</td>\n",
       "      <td>0</td>\n",
       "      <td>1</td>\n",
       "      <td>103.0</td>\n",
       "      <td>362.0</td>\n",
       "      <td>0</td>\n",
       "    </tr>\n",
       "    <tr>\n",
       "      <th>3</th>\n",
       "      <td>4</td>\n",
       "      <td>0</td>\n",
       "      <td>1.0</td>\n",
       "      <td>1.0</td>\n",
       "      <td>0.0</td>\n",
       "      <td>0.00000</td>\n",
       "      <td>0.0</td>\n",
       "      <td>0.00000</td>\n",
       "      <td>42.0</td>\n",
       "      <td>42.0</td>\n",
       "      <td>0</td>\n",
       "      <td>0</td>\n",
       "      <td>17.0</td>\n",
       "      <td>35.0</td>\n",
       "      <td>0</td>\n",
       "    </tr>\n",
       "    <tr>\n",
       "      <th>4</th>\n",
       "      <td>5</td>\n",
       "      <td>0</td>\n",
       "      <td>1.0</td>\n",
       "      <td>3.0</td>\n",
       "      <td>0.0</td>\n",
       "      <td>45.47917</td>\n",
       "      <td>0.0</td>\n",
       "      <td>-34.14473</td>\n",
       "      <td>64.0</td>\n",
       "      <td>64.0</td>\n",
       "      <td>0</td>\n",
       "      <td>1</td>\n",
       "      <td>100.0</td>\n",
       "      <td>298.0</td>\n",
       "      <td>0</td>\n",
       "    </tr>\n",
       "  </tbody>\n",
       "</table>\n",
       "</div>"
      ],
      "text/plain": [
       "   Unnamed: 0 isbuyer  buy_freq  visit_freq  buy_interval  sv_interval  \\\n",
       "0           1       0       1.0         1.0           0.0      0.00000   \n",
       "1           2       0       1.0         1.0           0.0      0.00000   \n",
       "2           3       0       1.0         2.0           0.0      0.50000   \n",
       "3           4       0       1.0         1.0           0.0      0.00000   \n",
       "4           5       0       1.0         3.0           0.0     45.47917   \n",
       "\n",
       "   expected_time_buy  expected_time_visit  last_buy  last_visit multiple_buy  \\\n",
       "0                0.0              0.00000     106.0       106.0            0   \n",
       "1                0.0              0.00000       6.0         6.0            0   \n",
       "2                0.0           -101.14930     101.0       101.0            0   \n",
       "3                0.0              0.00000      42.0        42.0            0   \n",
       "4                0.0            -34.14473      64.0        64.0            0   \n",
       "\n",
       "  multiple_visit  uniq_urls  num_checkins  y_buy  \n",
       "0              0      169.0        2130.0      0  \n",
       "1              0      150.0         539.0      0  \n",
       "2              1      103.0         362.0      0  \n",
       "3              0       17.0          35.0      0  \n",
       "4              1      100.0         298.0      0  "
      ]
     },
     "execution_count": 113,
     "metadata": {},
     "output_type": "execute_result"
    },
    {
     "data": {
      "text/html": [
       "<div>\n",
       "<style scoped>\n",
       "    .dataframe tbody tr th:only-of-type {\n",
       "        vertical-align: middle;\n",
       "    }\n",
       "\n",
       "    .dataframe tbody tr th {\n",
       "        vertical-align: top;\n",
       "    }\n",
       "\n",
       "    .dataframe thead th {\n",
       "        text-align: right;\n",
       "    }\n",
       "</style>\n",
       "<table border=\"1\" class=\"dataframe\">\n",
       "  <thead>\n",
       "    <tr style=\"text-align: right;\">\n",
       "      <th></th>\n",
       "      <th>Unnamed: 0</th>\n",
       "      <th>isbuyer</th>\n",
       "      <th>buy_freq</th>\n",
       "      <th>visit_freq</th>\n",
       "      <th>buy_interval</th>\n",
       "      <th>sv_interval</th>\n",
       "      <th>expected_time_buy</th>\n",
       "      <th>expected_time_visit</th>\n",
       "      <th>last_buy</th>\n",
       "      <th>last_visit</th>\n",
       "      <th>multiple_buy</th>\n",
       "      <th>multiple_visit</th>\n",
       "      <th>uniq_urls</th>\n",
       "      <th>num_checkins</th>\n",
       "    </tr>\n",
       "  </thead>\n",
       "  <tbody>\n",
       "    <tr>\n",
       "      <th>0</th>\n",
       "      <td>1</td>\n",
       "      <td>0</td>\n",
       "      <td>1.0</td>\n",
       "      <td>1.0</td>\n",
       "      <td>0.0</td>\n",
       "      <td>0.00000</td>\n",
       "      <td>0.0</td>\n",
       "      <td>0.0000</td>\n",
       "      <td>72.0</td>\n",
       "      <td>72.0</td>\n",
       "      <td>0</td>\n",
       "      <td>0</td>\n",
       "      <td>154.0</td>\n",
       "      <td>1100.0</td>\n",
       "    </tr>\n",
       "    <tr>\n",
       "      <th>1</th>\n",
       "      <td>2</td>\n",
       "      <td>0</td>\n",
       "      <td>1.0</td>\n",
       "      <td>1.0</td>\n",
       "      <td>0.0</td>\n",
       "      <td>0.00000</td>\n",
       "      <td>0.0</td>\n",
       "      <td>0.0000</td>\n",
       "      <td>5.0</td>\n",
       "      <td>5.0</td>\n",
       "      <td>0</td>\n",
       "      <td>0</td>\n",
       "      <td>4.0</td>\n",
       "      <td>12.0</td>\n",
       "    </tr>\n",
       "    <tr>\n",
       "      <th>2</th>\n",
       "      <td>3</td>\n",
       "      <td>0</td>\n",
       "      <td>1.0</td>\n",
       "      <td>1.0</td>\n",
       "      <td>0.0</td>\n",
       "      <td>0.00000</td>\n",
       "      <td>0.0</td>\n",
       "      <td>0.0000</td>\n",
       "      <td>42.0</td>\n",
       "      <td>42.0</td>\n",
       "      <td>0</td>\n",
       "      <td>0</td>\n",
       "      <td>42.0</td>\n",
       "      <td>110.0</td>\n",
       "    </tr>\n",
       "    <tr>\n",
       "      <th>3</th>\n",
       "      <td>4</td>\n",
       "      <td>0</td>\n",
       "      <td>1.0</td>\n",
       "      <td>2.0</td>\n",
       "      <td>0.0</td>\n",
       "      <td>29.79167</td>\n",
       "      <td>0.0</td>\n",
       "      <td>-106.1883</td>\n",
       "      <td>121.0</td>\n",
       "      <td>121.0</td>\n",
       "      <td>0</td>\n",
       "      <td>1</td>\n",
       "      <td>101.0</td>\n",
       "      <td>401.0</td>\n",
       "    </tr>\n",
       "    <tr>\n",
       "      <th>4</th>\n",
       "      <td>5</td>\n",
       "      <td>0</td>\n",
       "      <td>1.0</td>\n",
       "      <td>2.0</td>\n",
       "      <td>0.0</td>\n",
       "      <td>21.33333</td>\n",
       "      <td>0.0</td>\n",
       "      <td>-108.3230</td>\n",
       "      <td>118.0</td>\n",
       "      <td>118.0</td>\n",
       "      <td>0</td>\n",
       "      <td>1</td>\n",
       "      <td>163.0</td>\n",
       "      <td>891.0</td>\n",
       "    </tr>\n",
       "  </tbody>\n",
       "</table>\n",
       "</div>"
      ],
      "text/plain": [
       "   Unnamed: 0 isbuyer  buy_freq  visit_freq  buy_interval  sv_interval  \\\n",
       "0           1       0       1.0         1.0           0.0      0.00000   \n",
       "1           2       0       1.0         1.0           0.0      0.00000   \n",
       "2           3       0       1.0         1.0           0.0      0.00000   \n",
       "3           4       0       1.0         2.0           0.0     29.79167   \n",
       "4           5       0       1.0         2.0           0.0     21.33333   \n",
       "\n",
       "   expected_time_buy  expected_time_visit  last_buy  last_visit multiple_buy  \\\n",
       "0                0.0               0.0000      72.0        72.0            0   \n",
       "1                0.0               0.0000       5.0         5.0            0   \n",
       "2                0.0               0.0000      42.0        42.0            0   \n",
       "3                0.0            -106.1883     121.0       121.0            0   \n",
       "4                0.0            -108.3230     118.0       118.0            0   \n",
       "\n",
       "  multiple_visit  uniq_urls  num_checkins  \n",
       "0              0      154.0        1100.0  \n",
       "1              0        4.0          12.0  \n",
       "2              0       42.0         110.0  \n",
       "3              1      101.0         401.0  \n",
       "4              1      163.0         891.0  "
      ]
     },
     "execution_count": 113,
     "metadata": {},
     "output_type": "execute_result"
    }
   ],
   "source": [
    "train.columns\n",
    "train.head(5)\n",
    "test.head(5)"
   ]
  },
  {
   "cell_type": "code",
   "execution_count": 95,
   "metadata": {
    "ExecuteTime": {
     "end_time": "2019-03-14T05:56:15.841406Z",
     "start_time": "2019-03-14T05:56:15.728894Z"
    }
   },
   "outputs": [
    {
     "data": {
      "text/html": [
       "<div>\n",
       "<style scoped>\n",
       "    .dataframe tbody tr th:only-of-type {\n",
       "        vertical-align: middle;\n",
       "    }\n",
       "\n",
       "    .dataframe tbody tr th {\n",
       "        vertical-align: top;\n",
       "    }\n",
       "\n",
       "    .dataframe thead th {\n",
       "        text-align: right;\n",
       "    }\n",
       "</style>\n",
       "<table border=\"1\" class=\"dataframe\">\n",
       "  <thead>\n",
       "    <tr style=\"text-align: right;\">\n",
       "      <th></th>\n",
       "      <th>Unnamed: 0</th>\n",
       "      <th>isbuyer</th>\n",
       "      <th>buy_freq</th>\n",
       "      <th>visit_freq</th>\n",
       "      <th>buy_interval</th>\n",
       "      <th>sv_interval</th>\n",
       "      <th>expected_time_buy</th>\n",
       "      <th>expected_time_visit</th>\n",
       "      <th>last_buy</th>\n",
       "      <th>last_visit</th>\n",
       "      <th>multiple_buy</th>\n",
       "      <th>multiple_visit</th>\n",
       "      <th>uniq_urls</th>\n",
       "      <th>num_checkins</th>\n",
       "      <th>y_buy</th>\n",
       "    </tr>\n",
       "  </thead>\n",
       "  <tbody>\n",
       "    <tr>\n",
       "      <th>count</th>\n",
       "      <td>38209.000000</td>\n",
       "      <td>38209.000000</td>\n",
       "      <td>1620.000000</td>\n",
       "      <td>38209.000000</td>\n",
       "      <td>38209.000000</td>\n",
       "      <td>38209.000000</td>\n",
       "      <td>38209.000000</td>\n",
       "      <td>38209.000000</td>\n",
       "      <td>38209.000000</td>\n",
       "      <td>38209.000000</td>\n",
       "      <td>38209.000000</td>\n",
       "      <td>38209.000000</td>\n",
       "      <td>38209.000000</td>\n",
       "      <td>38209.000000</td>\n",
       "      <td>38209.000000</td>\n",
       "    </tr>\n",
       "    <tr>\n",
       "      <th>mean</th>\n",
       "      <td>19105.000000</td>\n",
       "      <td>0.042398</td>\n",
       "      <td>1.239506</td>\n",
       "      <td>1.868199</td>\n",
       "      <td>0.197411</td>\n",
       "      <td>5.862179</td>\n",
       "      <td>-0.174376</td>\n",
       "      <td>-10.136685</td>\n",
       "      <td>64.657384</td>\n",
       "      <td>64.657384</td>\n",
       "      <td>0.005967</td>\n",
       "      <td>0.277526</td>\n",
       "      <td>86.594624</td>\n",
       "      <td>723.834515</td>\n",
       "      <td>0.004502</td>\n",
       "    </tr>\n",
       "    <tr>\n",
       "      <th>std</th>\n",
       "      <td>11030.132554</td>\n",
       "      <td>0.201499</td>\n",
       "      <td>0.840259</td>\n",
       "      <td>2.996675</td>\n",
       "      <td>3.855662</td>\n",
       "      <td>17.726455</td>\n",
       "      <td>4.784059</td>\n",
       "      <td>31.796845</td>\n",
       "      <td>53.453475</td>\n",
       "      <td>53.453475</td>\n",
       "      <td>0.077018</td>\n",
       "      <td>0.447784</td>\n",
       "      <td>61.941089</td>\n",
       "      <td>1286.380572</td>\n",
       "      <td>0.066943</td>\n",
       "    </tr>\n",
       "    <tr>\n",
       "      <th>min</th>\n",
       "      <td>1.000000</td>\n",
       "      <td>0.000000</td>\n",
       "      <td>1.000000</td>\n",
       "      <td>0.000000</td>\n",
       "      <td>0.000000</td>\n",
       "      <td>0.000000</td>\n",
       "      <td>-181.923800</td>\n",
       "      <td>-187.615600</td>\n",
       "      <td>0.000000</td>\n",
       "      <td>0.000000</td>\n",
       "      <td>0.000000</td>\n",
       "      <td>0.000000</td>\n",
       "      <td>-1.000000</td>\n",
       "      <td>1.000000</td>\n",
       "      <td>0.000000</td>\n",
       "    </tr>\n",
       "    <tr>\n",
       "      <th>25%</th>\n",
       "      <td>9553.000000</td>\n",
       "      <td>0.000000</td>\n",
       "      <td>1.000000</td>\n",
       "      <td>1.000000</td>\n",
       "      <td>0.000000</td>\n",
       "      <td>0.000000</td>\n",
       "      <td>0.000000</td>\n",
       "      <td>0.000000</td>\n",
       "      <td>18.000000</td>\n",
       "      <td>18.000000</td>\n",
       "      <td>0.000000</td>\n",
       "      <td>0.000000</td>\n",
       "      <td>30.000000</td>\n",
       "      <td>127.000000</td>\n",
       "      <td>0.000000</td>\n",
       "    </tr>\n",
       "    <tr>\n",
       "      <th>50%</th>\n",
       "      <td>19105.000000</td>\n",
       "      <td>0.000000</td>\n",
       "      <td>1.000000</td>\n",
       "      <td>1.000000</td>\n",
       "      <td>0.000000</td>\n",
       "      <td>0.000000</td>\n",
       "      <td>0.000000</td>\n",
       "      <td>0.000000</td>\n",
       "      <td>50.000000</td>\n",
       "      <td>50.000000</td>\n",
       "      <td>0.000000</td>\n",
       "      <td>0.000000</td>\n",
       "      <td>75.000000</td>\n",
       "      <td>319.000000</td>\n",
       "      <td>0.000000</td>\n",
       "    </tr>\n",
       "    <tr>\n",
       "      <th>75%</th>\n",
       "      <td>28657.000000</td>\n",
       "      <td>0.000000</td>\n",
       "      <td>1.000000</td>\n",
       "      <td>2.000000</td>\n",
       "      <td>0.000000</td>\n",
       "      <td>0.125000</td>\n",
       "      <td>0.000000</td>\n",
       "      <td>0.000000</td>\n",
       "      <td>105.000000</td>\n",
       "      <td>105.000000</td>\n",
       "      <td>0.000000</td>\n",
       "      <td>1.000000</td>\n",
       "      <td>155.000000</td>\n",
       "      <td>803.000000</td>\n",
       "      <td>0.000000</td>\n",
       "    </tr>\n",
       "    <tr>\n",
       "      <th>max</th>\n",
       "      <td>38209.000000</td>\n",
       "      <td>1.000000</td>\n",
       "      <td>15.000000</td>\n",
       "      <td>84.000000</td>\n",
       "      <td>174.625000</td>\n",
       "      <td>184.916700</td>\n",
       "      <td>84.285710</td>\n",
       "      <td>91.401920</td>\n",
       "      <td>188.000000</td>\n",
       "      <td>188.000000</td>\n",
       "      <td>1.000000</td>\n",
       "      <td>1.000000</td>\n",
       "      <td>206.000000</td>\n",
       "      <td>37091.000000</td>\n",
       "      <td>1.000000</td>\n",
       "    </tr>\n",
       "  </tbody>\n",
       "</table>\n",
       "</div>"
      ],
      "text/plain": [
       "         Unnamed: 0       isbuyer     buy_freq    visit_freq  buy_interval  \\\n",
       "count  38209.000000  38209.000000  1620.000000  38209.000000  38209.000000   \n",
       "mean   19105.000000      0.042398     1.239506      1.868199      0.197411   \n",
       "std    11030.132554      0.201499     0.840259      2.996675      3.855662   \n",
       "min        1.000000      0.000000     1.000000      0.000000      0.000000   \n",
       "25%     9553.000000      0.000000     1.000000      1.000000      0.000000   \n",
       "50%    19105.000000      0.000000     1.000000      1.000000      0.000000   \n",
       "75%    28657.000000      0.000000     1.000000      2.000000      0.000000   \n",
       "max    38209.000000      1.000000    15.000000     84.000000    174.625000   \n",
       "\n",
       "        sv_interval  expected_time_buy  expected_time_visit      last_buy  \\\n",
       "count  38209.000000       38209.000000         38209.000000  38209.000000   \n",
       "mean       5.862179          -0.174376           -10.136685     64.657384   \n",
       "std       17.726455           4.784059            31.796845     53.453475   \n",
       "min        0.000000        -181.923800          -187.615600      0.000000   \n",
       "25%        0.000000           0.000000             0.000000     18.000000   \n",
       "50%        0.000000           0.000000             0.000000     50.000000   \n",
       "75%        0.125000           0.000000             0.000000    105.000000   \n",
       "max      184.916700          84.285710            91.401920    188.000000   \n",
       "\n",
       "         last_visit  multiple_buy  multiple_visit     uniq_urls  num_checkins  \\\n",
       "count  38209.000000  38209.000000    38209.000000  38209.000000  38209.000000   \n",
       "mean      64.657384      0.005967        0.277526     86.594624    723.834515   \n",
       "std       53.453475      0.077018        0.447784     61.941089   1286.380572   \n",
       "min        0.000000      0.000000        0.000000     -1.000000      1.000000   \n",
       "25%       18.000000      0.000000        0.000000     30.000000    127.000000   \n",
       "50%       50.000000      0.000000        0.000000     75.000000    319.000000   \n",
       "75%      105.000000      0.000000        1.000000    155.000000    803.000000   \n",
       "max      188.000000      1.000000        1.000000    206.000000  37091.000000   \n",
       "\n",
       "              y_buy  \n",
       "count  38209.000000  \n",
       "mean       0.004502  \n",
       "std        0.066943  \n",
       "min        0.000000  \n",
       "25%        0.000000  \n",
       "50%        0.000000  \n",
       "75%        0.000000  \n",
       "max        1.000000  "
      ]
     },
     "execution_count": 95,
     "metadata": {},
     "output_type": "execute_result"
    }
   ],
   "source": [
    "train.describe()"
   ]
  },
  {
   "cell_type": "code",
   "execution_count": null,
   "metadata": {},
   "outputs": [],
   "source": [
    "# train[\"buy_interval\"].value_counts()\n",
    "# train[\"buy_interval\"].isnull().sum()\n",
    "# train[\"sv_interval\"].value_counts()\n",
    "# train[\"sv_interval\"].isnull().sum()\n",
    "# train[\"expected_time_buy\"].value_counts()\n",
    "# train[\"expected_time_buy\"].isnull().sum()\n",
    "# train[\"expected_time_visit\"].value_counts()\n",
    "# train[\"expected_time_visit\"].isnull().sum()\n",
    "# train[\"last_buy\"].value_counts()\n",
    "# train[\"last_buy\"].isnull().sum()\n",
    "# train[\"last_visit\"].value_counts()\n",
    "# train[\"last_visit\"].isnull().sum()\n",
    "# train[\"uniq_urls\"].value_counts()\n",
    "# train[\"uniq_urls\"].isnull().sum()\n",
    "# train[\"num_checkins\"].value_counts()\n",
    "# train[\"num_checkins\"].isnull().sum()\n",
    "# 类别：\n",
    "# train[\"multiple_buy\"].value_counts()\n",
    "# train[\"multiple_buy\"].isnull().sum()\n",
    "# train[\"isbuyer\"].value_counts()\n",
    "# train[\"isbuyer\"].isnull().sum()\n",
    "# train[\"multiple_visit\"].value_counts()\n",
    "# train[\"multiple_visit\"].isnull().sum()"
   ]
  },
  {
   "cell_type": "code",
   "execution_count": 96,
   "metadata": {
    "ExecuteTime": {
     "end_time": "2019-03-14T05:56:57.000361Z",
     "start_time": "2019-03-14T05:56:56.993090Z"
    }
   },
   "outputs": [],
   "source": [
    "train[\"buy_freq\"]=train[\"buy_freq\"].fillna(1)\n",
    "test[\"buy_freq\"]=test[\"buy_freq\"].fillna(1)"
   ]
  },
  {
   "cell_type": "code",
   "execution_count": 46,
   "metadata": {
    "ExecuteTime": {
     "end_time": "2019-03-14T02:38:17.313870Z",
     "start_time": "2019-03-14T02:38:17.299079Z"
    }
   },
   "outputs": [
    {
     "data": {
      "text/plain": [
       "0    37981\n",
       "1      228\n",
       "Name: multiple_buy, dtype: int64"
      ]
     },
     "execution_count": 46,
     "metadata": {},
     "output_type": "execute_result"
    },
    {
     "data": {
      "text/plain": [
       "0"
      ]
     },
     "execution_count": 46,
     "metadata": {},
     "output_type": "execute_result"
    }
   ],
   "source": [
    "# train[\"buy_interval\"].value_counts()\n",
    "# train[\"buy_interval\"].isnull().sum()\n",
    "# train[\"sv_interval\"].value_counts()\n",
    "# train[\"sv_interval\"].isnull().sum()\n",
    "# train[\"expected_time_buy\"].value_counts()\n",
    "# train[\"expected_time_buy\"].isnull().sum()\n",
    "# train[\"expected_time_visit\"].value_counts()\n",
    "# train[\"expected_time_visit\"].isnull().sum()\n",
    "# train[\"last_buy\"].value_counts()\n",
    "# train[\"last_buy\"].isnull().sum()\n",
    "# train[\"last_visit\"].value_counts()\n",
    "# train[\"last_visit\"].isnull().sum()\n",
    "# train[\"uniq_urls\"].value_counts()\n",
    "# train[\"uniq_urls\"].isnull().sum()\n",
    "# train[\"num_checkins\"].value_counts()\n",
    "# train[\"num_checkins\"].isnull().sum()\n",
    "# 类别：\n",
    "# train[\"multiple_buy\"].value_counts()\n",
    "# train[\"multiple_buy\"].isnull().sum()\n",
    "# train[\"isbuyer\"].value_counts()\n",
    "# train[\"isbuyer\"].isnull().sum()\n",
    "# train[\"multiple_visit\"].value_counts()\n",
    "# train[\"multiple_visit\"].isnull().sum()"
   ]
  },
  {
   "cell_type": "code",
   "execution_count": 97,
   "metadata": {
    "ExecuteTime": {
     "end_time": "2019-03-14T05:57:13.263547Z",
     "start_time": "2019-03-14T05:57:13.258610Z"
    }
   },
   "outputs": [],
   "source": [
    "num_features = [ 'buy_freq', 'visit_freq', 'buy_interval','sv_interval', 'expected_time_buy', 'expected_time_visit', 'last_buy','last_visit', 'uniq_urls', 'num_checkins']\n",
    "cate_features = ['isbuyer', 'multiple_buy','multiple_visit']\n",
    "#最终特征，可以细加\n",
    "features = cate_features+num_features"
   ]
  },
  {
   "cell_type": "code",
   "execution_count": 98,
   "metadata": {
    "ExecuteTime": {
     "end_time": "2019-03-14T05:57:19.069455Z",
     "start_time": "2019-03-14T05:57:19.041572Z"
    }
   },
   "outputs": [],
   "source": [
    "for df in cate_features:\n",
    "    train[df]=train[df].astype('category')\n",
    "    test[df]=test[df].astype('category')\n",
    "for df in num_features:\n",
    "    train[df]=train[df].astype('float')\n",
    "    test[df]=test[df].astype('float')"
   ]
  },
  {
   "cell_type": "code",
   "execution_count": 72,
   "metadata": {
    "ExecuteTime": {
     "end_time": "2019-03-14T04:37:45.564354Z",
     "start_time": "2019-03-14T04:37:45.449888Z"
    }
   },
   "outputs": [
    {
     "name": "stderr",
     "output_type": "stream",
     "text": [
      "/ZC_DATA/miniconda3/lib/python3.6/site-packages/sklearn/cross_validation.py:41: DeprecationWarning: This module was deprecated in version 0.18 in favor of the model_selection module into which all the refactored classes and functions are moved. Also note that the interface of the new CV iterators are different from that of this module. This module will be removed in 0.20.\n",
      "  \"This module will be removed in 0.20.\", DeprecationWarning)\n"
     ]
    }
   ],
   "source": [
    "import lightgbm as lgb\n",
    "from sklearn.cross_validation import cross_val_score"
   ]
  },
  {
   "cell_type": "code",
   "execution_count": 109,
   "metadata": {
    "ExecuteTime": {
     "end_time": "2019-03-14T06:15:12.379138Z",
     "start_time": "2019-03-14T06:15:12.371748Z"
    }
   },
   "outputs": [],
   "source": [
    "model_lgb = lgb.LGBMClassifier(\n",
    "                              learning_rate=0.02, n_estimators=3000,# 0.01,3000\n",
    "                              lambda_l1 = 5,lambda_l2 = 0.01,\n",
    "                              num_leaves=4, min_sum_hessian_in_leaf = 12,\n",
    "                              bagging_freq = 5,\n",
    "                              colsample_bytree = 0.3,subsample = 0.8, # 0.5 0.6\n",
    "                              feature_fraction_seed=9,bagging_seed=9,\n",
    "                              min_data_in_leaf =4,min_split_gain = 0.01,\n",
    "                              max_depth=3,\n",
    "                              scale_pos_weight =37981/1620,num_threads=30,\n",
    "                              )"
   ]
  },
  {
   "cell_type": "code",
   "execution_count": 110,
   "metadata": {
    "ExecuteTime": {
     "end_time": "2019-03-14T06:15:17.312292Z",
     "start_time": "2019-03-14T06:15:17.307608Z"
    }
   },
   "outputs": [],
   "source": [
    "def roc_cv(model,train_data,label):\n",
    "    roc_cv = cross_val_score(model, train_data, label,scoring=\"roc_auc\", cv = 6,verbose=5) \n",
    "    return(roc_cv.mean())"
   ]
  },
  {
   "cell_type": "code",
   "execution_count": 111,
   "metadata": {
    "ExecuteTime": {
     "end_time": "2019-03-14T06:25:28.145801Z",
     "start_time": "2019-03-14T06:15:20.038495Z"
    }
   },
   "outputs": [
    {
     "name": "stdout",
     "output_type": "stream",
     "text": [
      "[CV]  ................................................................\n",
      "[CV] ....................................... , score=0.813002 -   3.5s\n",
      "[CV]  ................................................................\n"
     ]
    },
    {
     "name": "stderr",
     "output_type": "stream",
     "text": [
      "[Parallel(n_jobs=1)]: Done   1 out of   1 | elapsed:    3.5s remaining:    0.0s\n"
     ]
    },
    {
     "name": "stdout",
     "output_type": "stream",
     "text": [
      "[CV] ....................................... , score=0.815618 - 1.7min\n",
      "[CV]  ................................................................\n"
     ]
    },
    {
     "name": "stderr",
     "output_type": "stream",
     "text": [
      "[Parallel(n_jobs=1)]: Done   2 out of   2 | elapsed:  1.7min remaining:    0.0s\n"
     ]
    },
    {
     "name": "stdout",
     "output_type": "stream",
     "text": [
      "[CV] ....................................... , score=0.855080 - 2.2min\n",
      "[CV]  ................................................................\n"
     ]
    },
    {
     "name": "stderr",
     "output_type": "stream",
     "text": [
      "[Parallel(n_jobs=1)]: Done   3 out of   3 | elapsed:  3.9min remaining:    0.0s\n"
     ]
    },
    {
     "name": "stdout",
     "output_type": "stream",
     "text": [
      "[CV] ....................................... , score=0.908508 - 2.8min\n",
      "[CV]  ................................................................\n"
     ]
    },
    {
     "name": "stderr",
     "output_type": "stream",
     "text": [
      "[Parallel(n_jobs=1)]: Done   4 out of   4 | elapsed:  6.7min remaining:    0.0s\n"
     ]
    },
    {
     "name": "stdout",
     "output_type": "stream",
     "text": [
      "[CV] ....................................... , score=0.765223 - 1.7min\n",
      "[CV]  ................................................................\n",
      "[CV] ....................................... , score=0.812290 - 1.7min\n"
     ]
    },
    {
     "name": "stderr",
     "output_type": "stream",
     "text": [
      "[Parallel(n_jobs=1)]: Done   6 out of   6 | elapsed: 10.1min finished\n"
     ]
    }
   ],
   "source": [
    "auc = roc_cv(model_lgb,train[features],train[\"y_buy\"])"
   ]
  },
  {
   "cell_type": "code",
   "execution_count": 112,
   "metadata": {
    "ExecuteTime": {
     "end_time": "2019-03-14T06:27:30.583110Z",
     "start_time": "2019-03-14T06:27:30.576917Z"
    }
   },
   "outputs": [
    {
     "data": {
      "text/plain": [
       "0.8282868774905491"
      ]
     },
     "execution_count": 112,
     "metadata": {},
     "output_type": "execute_result"
    }
   ],
   "source": [
    "auc"
   ]
  },
  {
   "cell_type": "code",
   "execution_count": null,
   "metadata": {},
   "outputs": [],
   "source": []
  }
 ],
 "metadata": {
  "kernelspec": {
   "display_name": "Python 3",
   "language": "python",
   "name": "python3"
  },
  "language_info": {
   "codemirror_mode": {
    "name": "ipython",
    "version": 3
   },
   "file_extension": ".py",
   "mimetype": "text/x-python",
   "name": "python",
   "nbconvert_exporter": "python",
   "pygments_lexer": "ipython3",
   "version": "3.6.5"
  },
  "toc": {
   "base_numbering": 1,
   "nav_menu": {},
   "number_sections": true,
   "sideBar": true,
   "skip_h1_title": false,
   "title_cell": "Table of Contents",
   "title_sidebar": "Contents",
   "toc_cell": false,
   "toc_position": {},
   "toc_section_display": true,
   "toc_window_display": false
  }
 },
 "nbformat": 4,
 "nbformat_minor": 2
}
